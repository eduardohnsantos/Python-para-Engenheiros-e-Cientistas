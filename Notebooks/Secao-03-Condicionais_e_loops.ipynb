{
 "cells": [
  {
   "cell_type": "markdown",
   "metadata": {},
   "source": [
    "# TECHMIMO\n",
    "\n",
    "\n",
    "Autor: Rafael Pereira da Silva\n",
    "\n",
    "Seguem alguns recados para ajudá-los e para contribuir com o curso:\n",
    "\n",
    "- Fiquem à vontade para me contatar pelo Linkdin, costumo responder por lá também: https://www.linkedin.com/in/rafael-pereira-da-silva-23890799/\n",
    "\n",
    "- Fiquem a vontade para compartilharem o certificado do curso no Linkedin. Eu costumo curtir e comentar para dar mais credibilidade\n",
    "\n",
    "- Vocês podem usar esses notebooks para resolver os exercícios e desafios\n",
    "\n",
    "- Não se esqueçam de avaliar o curso e dar feedback, eu costumo criar conteúdos baseado nas demandas de vocês\n",
    "- Se tiverem gostando do curso, recomendem aos amigos, pois isso também ajuda a impulsionar e a crescer a comunidade\n",
    "-  Bons estudos e grande abraços!\n"
   ]
  },
  {
   "cell_type": "markdown",
   "metadata": {},
   "source": [
    "## Sobre o Material\n",
    "\n",
    "Este material é parte do curso **Python para Engenheiros e Cientistas** e está sobre a licença MIT.\n",
    "Caso você tenha interesse em conhecer o curso, acesso o link abaixo.\n",
    "\n",
    "\n",
    "https://www.udemy.com/course/python-para-engenheiros-e-cientistas/?referralCode=FA25B2C024FF2D3F8232\n",
    "\n",
    "\n",
    "Algumas aulas, exercícios e desafios estarão sem códigos propositalmente para que o aluno possa preencher.\n"
   ]
  },
  {
   "cell_type": "markdown",
   "metadata": {},
   "source": [
    "# Seção 3 - Condionais e loops\n",
    "\n",
    "Palavras chave: *Control flow* ou *Control structures*\n",
    "\n",
    "Essa aula é inspirada em: https://docs.python.org/3/tutorial/controlflow.html"
   ]
  },
  {
   "cell_type": "markdown",
   "metadata": {
    "collapsed": true
   },
   "source": [
    "## 3.1 Condicional *if*\n",
    "\n",
    "### Construções\n",
    "- **if** condição**:**\n",
    "- **elif** condição**:**\n",
    "- **else:**\n",
    "\n",
    "### Operações booleanas\n",
    "Além dos comparadores, também podemos fazer operações booleanas. Elas são úteis em estruturas condicionais. Duas delas são: **or** e **and**.\n",
    "\n",
    "\n",
    "Acesse: https://docs.python.org/3/library/stdtypes.html#"
   ]
  },
  {
   "cell_type": "code",
   "execution_count": 32,
   "metadata": {},
   "outputs": [
    {
     "name": "stdout",
     "output_type": "stream",
     "text": [
      "positivo\n"
     ]
    }
   ],
   "source": [
    "x = 5\n",
    "\n",
    "if x > 0:\n",
    "    print('positivo')\n",
    "elif x < 0:\n",
    "    print('negativo')\n",
    "else:\n",
    "    print('nenhuma alternativa')"
   ]
  },
  {
   "cell_type": "code",
   "execution_count": 33,
   "metadata": {},
   "outputs": [
    {
     "name": "stdout",
     "output_type": "stream",
     "text": [
      "Matemática\n"
     ]
    }
   ],
   "source": [
    "x = 'Matemática'\n",
    "\n",
    "if x == 'Matemática':\n",
    "    print(x)"
   ]
  },
  {
   "cell_type": "code",
   "execution_count": 38,
   "metadata": {},
   "outputs": [
    {
     "name": "stdout",
     "output_type": "stream",
     "text": [
      "5\n"
     ]
    }
   ],
   "source": [
    "x = 5\n",
    "\n",
    "if type(x) is not str:\n",
    "    print(x)\n"
   ]
  },
  {
   "cell_type": "code",
   "execution_count": 42,
   "metadata": {
    "scrolled": true
   },
   "outputs": [
    {
     "name": "stdout",
     "output_type": "stream",
     "text": [
      "-10\n"
     ]
    }
   ],
   "source": [
    "x = -10\n",
    "\n",
    "if x > 4 or x < 0:\n",
    "    print(x)\n",
    "\n"
   ]
  },
  {
   "cell_type": "markdown",
   "metadata": {
    "collapsed": true
   },
   "source": [
    "## 3.2 Loop *for*\n",
    "\n",
    "\n",
    "- **for** variável **in** o_que_será_iterado**:** \n",
    "\n",
    "Há uma série de tipos que podem ser utilizado como iteradores, como:\n",
    "- range --> seus elementos são inteiros\n",
    "- list --> seus elementos são os que estão contidos na lista\n",
    "- enumerate --> seus elementos são tuplas que contem inteiros e valores\n",
    "\n",
    "\n",
    "\n"
   ]
  },
  {
   "cell_type": "code",
   "execution_count": 51,
   "metadata": {},
   "outputs": [
    {
     "name": "stdout",
     "output_type": "stream",
     "text": [
      "0\n",
      "1\n",
      "2\n",
      "3\n",
      "4\n",
      "5\n",
      "6\n"
     ]
    }
   ],
   "source": [
    "lista = ['a',2,'b',4,5,5,'w']\n",
    "\n",
    "\n",
    "for i in range(len(lista)):\n",
    "    print(i)\n"
   ]
  },
  {
   "cell_type": "code",
   "execution_count": 56,
   "metadata": {},
   "outputs": [
    {
     "name": "stdout",
     "output_type": "stream",
     "text": [
      "a\n",
      "2\n",
      "b\n",
      "4\n",
      "5\n",
      "5\n",
      "w\n"
     ]
    }
   ],
   "source": [
    "lista = ['a',2,'b',4,5,5,'w']\n",
    "\n",
    "for i in enumerate(lista):\n",
    "    print(i[1])\n"
   ]
  },
  {
   "cell_type": "markdown",
   "metadata": {},
   "source": [
    "## 3.3 Loop *while*\n",
    "- **while** condição**:**\n",
    "\n",
    "Enquanto a condição for verdadeira, o programa executará os comandos\n",
    "\n",
    "Uma noção sobre tipos booleanos é interessante para executar esse comando\n"
   ]
  },
  {
   "cell_type": "code",
   "execution_count": 59,
   "metadata": {},
   "outputs": [
    {
     "name": "stdout",
     "output_type": "stream",
     "text": [
      "10\n",
      "11\n",
      "12\n",
      "13\n",
      "14\n",
      "15\n",
      "16\n",
      "17\n",
      "18\n",
      "19\n",
      "20\n"
     ]
    }
   ],
   "source": [
    "x = 10\n",
    "\n",
    "while x > 5:\n",
    "    print(x)\n",
    "    #x = x - 1\n",
    "    x += 1\n",
    "    if x > 20:\n",
    "        break"
   ]
  },
  {
   "cell_type": "code",
   "execution_count": null,
   "metadata": {
    "collapsed": true
   },
   "outputs": [],
   "source": []
  },
  {
   "cell_type": "markdown",
   "metadata": {},
   "source": [
    "## 3.4 Exercício 1 - \n",
    "Crie um condicional que, dada uma variável, faça as operações:\n",
    "- Se for número positivo, retorna \"Número positivo\"\n",
    "- Se for número negativo, retorna \"Número negativo\"\n",
    "- Se for zero, retorna \"zero\"\n",
    "- Se não for número, retorna \"Não é um número\"\n",
    "\n"
   ]
  },
  {
   "cell_type": "code",
   "execution_count": 3,
   "metadata": {},
   "outputs": [
    {
     "name": "stdout",
     "output_type": "stream",
     "text": [
      "Não é um número\n"
     ]
    }
   ],
   "source": [
    "# A ser resolvido pelo aluno (assista o vídeo com a solução)\n",
    "x = 'TESTE'\n",
    "\n",
    "if type(x) is str:\n",
    "    print('Não é um número')\n",
    "elif x > 0:\n",
    "    print('Número positivo')\n",
    "elif x < 0:\n",
    "    print('Número negativo')    \n",
    "elif x == 0:\n",
    "    print('zero')    "
   ]
  },
  {
   "cell_type": "code",
   "execution_count": null,
   "metadata": {},
   "outputs": [],
   "source": []
  },
  {
   "cell_type": "markdown",
   "metadata": {},
   "source": [
    "## 3.5 Exercício 2 - \n",
    "Faça um loop **for** para criar uma lista que intercale os valores das listas a seguir:\n",
    "- valores = [1,2,3,4,5] \n",
    "- letras = ['a','b','c','d','e']\n",
    "\n",
    "Dica: você pode utilizar o método .append() que adiciona um elemento ao final da lista."
   ]
  },
  {
   "cell_type": "code",
   "execution_count": 6,
   "metadata": {},
   "outputs": [
    {
     "data": {
      "text/plain": [
       "[1, 'a', 2, 'b', 3, 'c', 4, 'd', 5, 'e']"
      ]
     },
     "execution_count": 6,
     "metadata": {},
     "output_type": "execute_result"
    }
   ],
   "source": [
    "# A ser resolvido pelo aluno (assista o vídeo com a solução)\n",
    "valores = [1, 2, 3, 4, 5]\n",
    "letras = ['a', 'b', 'c', 'd', 'e']\n",
    "\n",
    "nova_lista = []\n",
    "\n",
    "for i in range(5):\n",
    "    nova_lista.append(valores[i])\n",
    "    nova_lista.append(letras[i])\n",
    "\n",
    "nova_lista     "
   ]
  },
  {
   "cell_type": "code",
   "execution_count": null,
   "metadata": {},
   "outputs": [],
   "source": []
  },
  {
   "cell_type": "code",
   "execution_count": null,
   "metadata": {
    "collapsed": true
   },
   "outputs": [],
   "source": []
  },
  {
   "cell_type": "code",
   "execution_count": null,
   "metadata": {
    "collapsed": true
   },
   "outputs": [],
   "source": []
  },
  {
   "cell_type": "markdown",
   "metadata": {},
   "source": [
    "## 3.6 Exercício 3 - \n",
    "Dado um número inteiro, faça um operador while que calcule o fatorial desse número. Dicas: utilize as operações ** *=** e também **-=**"
   ]
  },
  {
   "cell_type": "code",
   "execution_count": 8,
   "metadata": {},
   "outputs": [
    {
     "data": {
      "text/plain": [
       "120"
      ]
     },
     "execution_count": 8,
     "metadata": {},
     "output_type": "execute_result"
    }
   ],
   "source": [
    "# A ser resolvido pelo aluno (assista o vídeo com a solução)\n",
    "# n! = (n)*(n-1)...(1)\n",
    "\n",
    "x = 5\n",
    "fact_x = 1\n",
    "\n",
    "if type(x) is int:\n",
    "    while x > 0:\n",
    "        fact_x *= x\n",
    "        x -= 1\n",
    "\n",
    "fact_x           "
   ]
  },
  {
   "cell_type": "code",
   "execution_count": null,
   "metadata": {},
   "outputs": [],
   "source": []
  },
  {
   "cell_type": "code",
   "execution_count": null,
   "metadata": {},
   "outputs": [],
   "source": []
  },
  {
   "cell_type": "markdown",
   "metadata": {},
   "source": [
    "## 3.7 Desafio 1 - Números primos\n",
    "Crie uma lista com os cinquenta primeiros números primos.\n",
    "\n",
    "Dica: pode ser utilizado o comando break e continue"
   ]
  },
  {
   "cell_type": "code",
   "execution_count": 10,
   "metadata": {},
   "outputs": [],
   "source": [
    "# A ser resolvido pelo aluno (assista o vídeo com a solução)"
   ]
  },
  {
   "cell_type": "code",
   "execution_count": null,
   "metadata": {},
   "outputs": [],
   "source": []
  },
  {
   "cell_type": "code",
   "execution_count": null,
   "metadata": {},
   "outputs": [],
   "source": []
  },
  {
   "cell_type": "code",
   "execution_count": null,
   "metadata": {},
   "outputs": [],
   "source": []
  },
  {
   "cell_type": "markdown",
   "metadata": {},
   "source": [
    "## 3.8 Desafio 2 - Combinação\n",
    "Crie uma lista de todas as palavras formadas com as letras: ARARA\n",
    "\n",
    "Dica: o problema se trata de uma permutação com elementos repetidos.\n",
    "\n",
    "\n",
    "$$\n",
    "P^{3,2}_{5} = \\frac{5!}{3!2!} = 10\n",
    "$$\n",
    "\n",
    "\n",
    "Anotações conforme: IEZZI, Gelson *et al*. Matemática: 1a série. São Paulo: Atual, 1981.\n",
    "\n",
    "Para escrever fórmulas no Markdown: http://luvxuan.top/posts/Markdown-math/"
   ]
  },
  {
   "cell_type": "code",
   "execution_count": 5,
   "metadata": {},
   "outputs": [],
   "source": [
    "# A ser resolvido pelo aluno"
   ]
  },
  {
   "cell_type": "code",
   "execution_count": null,
   "metadata": {},
   "outputs": [],
   "source": []
  },
  {
   "cell_type": "code",
   "execution_count": null,
   "metadata": {
    "collapsed": true
   },
   "outputs": [],
   "source": []
  },
  {
   "cell_type": "code",
   "execution_count": null,
   "metadata": {
    "collapsed": true
   },
   "outputs": [],
   "source": []
  }
 ],
 "metadata": {
  "kernelspec": {
   "display_name": ".venv",
   "language": "python",
   "name": "python3"
  },
  "language_info": {
   "codemirror_mode": {
    "name": "ipython",
    "version": 3
   },
   "file_extension": ".py",
   "mimetype": "text/x-python",
   "name": "python",
   "nbconvert_exporter": "python",
   "pygments_lexer": "ipython3",
   "version": "3.12.1"
  }
 },
 "nbformat": 4,
 "nbformat_minor": 2
}
